{
 "cells": [
  {
   "cell_type": "markdown",
   "metadata": {},
   "source": [
    "# WeatherPy\n",
    "----\n",
    "\n",
    "#### Note\n",
    "* Instructions have been included for each segment. You do not have to follow them exactly, but they are included to help you think through the steps."
   ]
  },
  {
   "cell_type": "code",
   "execution_count": 164,
   "metadata": {
    "scrolled": true
   },
   "outputs": [],
   "source": [
    "# Dependencies and Setup\n",
    "import matplotlib.pyplot as plt\n",
    "import pandas as pd\n",
    "import numpy as np\n",
    "import requests\n",
    "import time\n",
    "from scipy.stats import linregress\n",
    "from pprint import pprint\n",
    "\n",
    "# Import API key\n",
    "from api_keys import weather_api_key\n",
    "\n",
    "# Incorporated citipy to determine city based on latitude and longitude\n",
    "from citipy import citipy\n",
    "\n",
    "# Output File (CSV)\n",
    "output_data_file = \"output_data/cities.csv\"\n",
    "\n",
    "# Range of latitudes and longitudes\n",
    "lat_range = (-90, 90)\n",
    "lng_range = (-180, 180)"
   ]
  },
  {
   "cell_type": "markdown",
   "metadata": {},
   "source": [
    "## Generate Cities List"
   ]
  },
  {
   "cell_type": "code",
   "execution_count": 165,
   "metadata": {},
   "outputs": [
    {
     "data": {
      "text/plain": [
       "646"
      ]
     },
     "execution_count": 165,
     "metadata": {},
     "output_type": "execute_result"
    }
   ],
   "source": [
    "# List for holding lat_lngs and cities\n",
    "lat_lngs = []\n",
    "cities = []\n",
    "\n",
    "# Create a set of random lat and lng combinations\n",
    "lats = np.random.uniform(lat_range[0], lat_range[1], size=1500)\n",
    "lngs = np.random.uniform(lng_range[0], lng_range[1], size=1500)\n",
    "lat_lngs = zip(lats, lngs)\n",
    "\n",
    "# Identify nearest city for each lat, lng combination\n",
    "for lat_lng in lat_lngs:\n",
    "    city = citipy.nearest_city(lat_lng[0], lat_lng[1]).city_name\n",
    "    \n",
    "    # If the city is unique, then add it to a our cities list\n",
    "    if city not in cities:\n",
    "        cities.append(city)\n",
    "\n",
    "# Print the city count to confirm sufficient count\n",
    "len(cities)"
   ]
  },
  {
   "cell_type": "markdown",
   "metadata": {},
   "source": [
    "### Perform API Calls\n",
    "* Perform a weather check on each city using a series of successive API calls.\n",
    "* Include a print log of each city as it'sbeing processed (with the city number and city name).\n"
   ]
  },
  {
   "cell_type": "code",
   "execution_count": 167,
   "metadata": {
    "scrolled": true
   },
   "outputs": [
    {
     "name": "stdout",
     "output_type": "stream",
     "text": [
      "Beginning Data Retrieval\n",
      "----------------------------------\n",
      "'Processing Record 1 | Rikitea'\n",
      "City not found. Skipping...\n",
      "'Processing Record 3 | Ushuaia'\n",
      "'Processing Record 4 | Tortolì'\n",
      "'Processing Record 5 | Bluff'\n",
      "City not found. Skipping...\n",
      "'Processing Record 7 | Mildura'\n",
      "'Processing Record 8 | East London'\n",
      "'Processing Record 9 | Lapeer'\n",
      "'Processing Record 10 | Qeshm'\n",
      "'Processing Record 11 | Garrel'\n",
      "'Processing Record 12 | Laranjeiras do Sul'\n",
      "'Processing Record 13 | Adrar'\n",
      "'Processing Record 14 | Vaini'\n",
      "'Processing Record 15 | Hilo'\n",
      "'Processing Record 16 | Punta Arenas'\n",
      "'Processing Record 17 | Cape Town'\n",
      "'Processing Record 18 | Upernavik'\n",
      "'Processing Record 19 | Brigantine'\n",
      "'Processing Record 20 | Mataura'\n",
      "'Processing Record 21 | Albany'\n",
      "'Processing Record 22 | Atuona'\n",
      "'Processing Record 23 | Soe'\n",
      "\"Processing Record 24 | Severo-Kuril'sk\"\n",
      "'Processing Record 25 | Fortuna'\n",
      "'Processing Record 26 | Longyearbyen'\n",
      "'Processing Record 27 | Mineral Wells'\n",
      "'Processing Record 28 | Tsimmerbude'\n",
      "'Processing Record 29 | Torbay'\n",
      "'Processing Record 30 | Saldanha'\n",
      "'Processing Record 31 | De-Kastri'\n",
      "'Processing Record 32 | Yumen'\n",
      "'Processing Record 33 | Pangnirtung'\n",
      "'Processing Record 34 | Salalah'\n",
      "'Processing Record 35 | Freeport'\n",
      "'Processing Record 36 | Avarua'\n",
      "City not found. Skipping...\n",
      "'Processing Record 38 | Qaanaaq'\n",
      "'Processing Record 39 | Faanui'\n",
      "'Processing Record 40 | General Cepeda'\n",
      "'Processing Record 41 | San Quintín'\n",
      "City not found. Skipping...\n",
      "'Processing Record 43 | Hermanus'\n",
      "'Processing Record 44 | Vassouras'\n",
      "'Processing Record 45 | Jamestown'\n",
      "'Processing Record 46 | Burgeo'\n",
      "City not found. Skipping...\n",
      "'Processing Record 48 | Cabo San Lucas'\n",
      "'Processing Record 49 | Nikolskoye'\n",
      "'Processing Record 50 | Naze'\n",
      "'Processing Record 51 | Busselton'\n",
      "'Processing Record 52 | Saint George'\n",
      "'Processing Record 53 | Tasiilaq'\n",
      "'Processing Record 54 | Cherskiy'\n",
      "'Processing Record 55 | La Reforma'\n",
      "'Processing Record 56 | Thompson'\n",
      "'Processing Record 57 | Saskylakh'\n",
      "'Processing Record 58 | Geraldton'\n",
      "'Processing Record 59 | Chekhov'\n",
      "'Processing Record 60 | Tuktoyaktuk'\n",
      "'Processing Record 61 | Bethel'\n",
      "'Processing Record 62 | Mount Gambier'\n",
      "'Processing Record 63 | Nemuro'\n",
      "'Processing Record 64 | Temuco'\n",
      "'Processing Record 65 | Grindavik'\n",
      "'Processing Record 66 | Sola'\n",
      "'Processing Record 67 | Tiksi'\n",
      "'Processing Record 68 | Codrington'\n",
      "'Processing Record 69 | Kavieng'\n",
      "'Processing Record 70 | Yerbogachën'\n",
      "'Processing Record 71 | Sumbe'\n",
      "'Processing Record 72 | Tilichiki'\n",
      "'Processing Record 73 | Pevek'\n",
      "'Processing Record 74 | Nanortalik'\n",
      "'Processing Record 75 | Puerto Ayora'\n",
      "'Processing Record 76 | Ostrovnoy'\n",
      "'Processing Record 77 | Krutaya Gorka'\n",
      "'Processing Record 78 | Souillac'\n",
      "'Processing Record 79 | Dikson'\n",
      "'Processing Record 80 | Butaritari'\n",
      "'Processing Record 81 | Norman Wells'\n",
      "'Processing Record 82 | Barrow'\n",
      "'Processing Record 83 | Lebu'\n",
      "'Processing Record 84 | Port Alfred'\n",
      "'Processing Record 85 | Uray'\n",
      "'Processing Record 86 | Sovetskiy'\n",
      "'Processing Record 87 | Nizwá'\n",
      "'Processing Record 88 | Stornoway'\n",
      "'Processing Record 89 | Aykhal'\n",
      "'Processing Record 90 | Isangel'\n",
      "'Processing Record 91 | Lālmohan'\n",
      "'Processing Record 92 | Cidreira'\n",
      "'Processing Record 93 | Bahía Honda'\n",
      "'Processing Record 94 | Yellowknife'\n",
      "'Processing Record 95 | Bandarbeyla'\n",
      "'Processing Record 96 | Ariquemes'\n",
      "'Processing Record 97 | Lata'\n",
      "'Processing Record 98 | San Cristobal'\n",
      "City not found. Skipping...\n",
      "'Processing Record 100 | Buford'\n",
      "'Processing Record 101 | Carnarvon'\n",
      "'Processing Record 102 | Clyde River'\n",
      "'Processing Record 103 | Sartell'\n",
      "'Processing Record 104 | Tignère'\n",
      "'Processing Record 105 | Katsuura'\n",
      "'Processing Record 106 | Pāchora'\n",
      "'Processing Record 107 | Yar-Sale'\n",
      "'Processing Record 108 | Hautmont'\n",
      "'Processing Record 109 | Lüderitz'\n",
      "'Processing Record 110 | Huarmey'\n",
      "City not found. Skipping...\n",
      "'Processing Record 112 | Tuatapere'\n",
      "'Processing Record 113 | New Norfolk'\n",
      "'Processing Record 114 | Lakes Entrance'\n",
      "'Processing Record 115 | Sitka'\n",
      "'Processing Record 116 | Bredasdorp'\n",
      "'Processing Record 117 | Mianwali'\n",
      "'Processing Record 118 | São Filipe'\n",
      "'Processing Record 119 | Leningradskiy'\n",
      "City not found. Skipping...\n",
      "'Processing Record 121 | Shimoda'\n",
      "'Processing Record 122 | Ubinskoye'\n",
      "'Processing Record 123 | Kerema'\n",
      "'Processing Record 124 | Manggar'\n",
      "'Processing Record 125 | Biak'\n",
      "'Processing Record 126 | Morondava'\n",
      "'Processing Record 127 | Shama'\n",
      "City not found. Skipping...\n",
      "'Processing Record 129 | Ponta do Sol'\n",
      "'Processing Record 130 | Berlevåg'\n",
      "'Processing Record 131 | Richards Bay'\n",
      "'Processing Record 132 | Hue'\n",
      "'Processing Record 133 | Vila'\n",
      "\"Processing Record 134 | Yantal'\"\n",
      "'Processing Record 135 | Oriximiná'\n",
      "City not found. Skipping...\n",
      "'Processing Record 137 | Hithadhoo'\n",
      "'Processing Record 138 | Aswān'\n",
      "'Processing Record 139 | Santa Isabel Rio Negro'\n",
      "'Processing Record 140 | George Town'\n",
      "'Processing Record 141 | Kaitangata'\n",
      "'Processing Record 142 | Chokurdakh'\n",
      "'Processing Record 143 | Mayo'\n",
      "'Processing Record 144 | Luau'\n",
      "City not found. Skipping...\n",
      "City not found. Skipping...\n",
      "'Processing Record 147 | Coracora'\n",
      "'Processing Record 148 | Ilulissat'\n",
      "'Processing Record 149 | Kumta'\n",
      "City not found. Skipping...\n",
      "City not found. Skipping...\n",
      "'Processing Record 152 | Saint-Philippe'\n",
      "'Processing Record 153 | Labuhan'\n",
      "'Processing Record 154 | Porto Belo'\n",
      "'Processing Record 155 | San Patricio'\n",
      "'Processing Record 156 | Kilis'\n",
      "'Processing Record 157 | Diapaga'\n",
      "'Processing Record 158 | Burnie'\n",
      "'Processing Record 159 | Bāfq'\n",
      "'Processing Record 160 | Urengoy'\n",
      "'Processing Record 161 | Vanimo'\n",
      "'Processing Record 162 | Nova Granada'\n",
      "'Processing Record 163 | Lavrentiya'\n",
      "'Processing Record 164 | Isla Vista'\n",
      "'Processing Record 165 | Orlik'\n",
      "'Processing Record 166 | Garoowe'\n",
      "'Processing Record 167 | Havøysund'\n",
      "'Processing Record 168 | Shingū'\n",
      "'Processing Record 169 | Nha Trang'\n",
      "'Processing Record 170 | Port Pirie'\n",
      "'Processing Record 171 | Byron Bay'\n",
      "'Processing Record 172 | Alekseyevsk'\n",
      "City not found. Skipping...\n",
      "'Processing Record 174 | Río Viejo'\n",
      "'Processing Record 175 | Castro'\n",
      "'Processing Record 176 | Hobart'\n",
      "'Processing Record 177 | Gatton'\n",
      "'Processing Record 178 | Talnakh'\n",
      "'Processing Record 179 | Olafsvik'\n",
      "'Processing Record 180 | Kapaa'\n",
      "'Processing Record 181 | Cockburn Town'\n",
      "'Processing Record 182 | Vila Franca do Campo'\n",
      "'Processing Record 183 | Narsaq'\n",
      "'Processing Record 184 | Boulsa'\n",
      "'Processing Record 185 | Champerico'\n",
      "'Processing Record 186 | Kutum'\n",
      "'Processing Record 187 | Saint-Joseph'\n",
      "'Processing Record 188 | Dhidhdhoo'\n",
      "'Processing Record 189 | Jinxi'\n",
      "'Processing Record 190 | Saint Paul Harbor'\n",
      "'Processing Record 191 | Kodīnar'\n",
      "'Processing Record 192 | Havre-St-Pierre'\n",
      "'Processing Record 193 | Río Gallegos'\n",
      "'Processing Record 194 | Lang Son'\n",
      "'Processing Record 195 | Niquelândia'\n",
      "'Processing Record 196 | Lorengau'\n",
      "City not found. Skipping...\n",
      "'Processing Record 198 | Goderich'\n",
      "'Processing Record 199 | Saint-Pierre'\n",
      "'Processing Record 200 | Nānākuli'\n",
      "'Processing Record 201 | Acapulco de Juárez'\n",
      "'Processing Record 202 | Ranot'\n",
      "'Processing Record 203 | Poum'\n",
      "'Processing Record 204 | Anloga'\n",
      "'Processing Record 205 | Porto Seguro'\n",
      "'Processing Record 206 | Walvis Bay'\n",
      "'Processing Record 207 | Port Elizabeth'\n",
      "'Processing Record 208 | Doka'\n",
      "City not found. Skipping...\n",
      "'Processing Record 210 | Boguchany'\n",
      "'Processing Record 211 | Meulaboh'\n",
      "City not found. Skipping...\n",
      "City not found. Skipping...\n",
      "'Processing Record 214 | Luanda'\n",
      "'Processing Record 215 | Buraidah'\n",
      "'Processing Record 216 | Mar del Plata'\n",
      "'Processing Record 217 | Nísia Floresta'\n",
      "'Processing Record 218 | Vila Velha'\n",
      "'Processing Record 219 | Mitchell'\n",
      "'Processing Record 220 | Bambanglipuro'\n",
      "'Processing Record 221 | Kuminskiy'\n",
      "'Processing Record 222 | Van'\n",
      "'Processing Record 223 | Margate'\n",
      "City not found. Skipping...\n",
      "'Processing Record 225 | Klyuchi'\n",
      "'Processing Record 226 | Carahue'\n",
      "'Processing Record 227 | La Ronge'\n",
      "'Processing Record 228 | Hualmay'\n",
      "'Processing Record 229 | Palora'\n",
      "'Processing Record 230 | Hong Kong'\n",
      "'Processing Record 231 | Padang'\n",
      "'Processing Record 232 | Abhā'\n",
      "'Processing Record 233 | Konëvo'\n",
      "'Processing Record 234 | Sabla'\n",
      "'Processing Record 235 | Tautira'\n",
      "'Processing Record 236 | Arraial do Cabo'\n",
      "'Processing Record 237 | Danilov'\n",
      "'Processing Record 238 | Grand Gaube'\n",
      "'Processing Record 239 | Blackwater'\n",
      "'Processing Record 240 | Craig'\n",
      "'Processing Record 241 | Kavaratti'\n",
      "'Processing Record 242 | Gazojak'\n",
      "'Processing Record 243 | Campeche'\n",
      "'Processing Record 244 | General Roca'\n",
      "'Processing Record 245 | Ulladulla'\n",
      "City not found. Skipping...\n",
      "'Processing Record 247 | Beringovskiy'\n",
      "'Processing Record 248 | Krasnorechenskiy'\n",
      "'Processing Record 249 | Sarangani'\n",
      "'Processing Record 250 | Guerrero Negro'\n",
      "'Processing Record 251 | Esperance'\n",
      "'Processing Record 252 | Shaowu'\n",
      "'Processing Record 253 | Vao'\n",
      "'Processing Record 254 | Nuuk'\n",
      "'Processing Record 255 | Trairi'\n",
      "'Processing Record 256 | Klaksvík'\n",
      "'Processing Record 257 | Whitehorse'\n",
      "'Processing Record 258 | Rafai'\n",
      "'Processing Record 259 | Chodavaram'\n",
      "'Processing Record 260 | Hasaki'\n",
      "'Processing Record 261 | Curitibanos'\n",
      "'Processing Record 262 | Oranjestad'\n",
      "'Processing Record 263 | Srednekolymsk'\n",
      "'Processing Record 264 | Povolzhskiy'\n",
      "'Processing Record 265 | Cassilândia'\n",
      "'Processing Record 266 | Destin'\n",
      "'Processing Record 267 | Grand Baie'\n",
      "'Processing Record 268 | Puerto Nariño'\n",
      "'Processing Record 269 | Beberibe'\n",
      "'Processing Record 270 | Sibu'\n",
      "'Processing Record 271 | Tiznit Province'\n",
      "'Processing Record 272 | Morro Bay'\n",
      "'Processing Record 273 | Yulara'\n",
      "'Processing Record 274 | Chui'\n",
      "'Processing Record 275 | Danielskuil'\n",
      "'Processing Record 276 | Saint Anthony'\n",
      "'Processing Record 277 | Kota Kinabalu'\n",
      "'Processing Record 278 | Port Hardy'\n",
      "'Processing Record 279 | Don Luan'\n",
      "'Processing Record 280 | San Luis'\n",
      "'Processing Record 281 | Tangshan'\n",
      "'Processing Record 282 | Takoradze'\n",
      "'Processing Record 283 | Niamey'\n",
      "'Processing Record 284 | Bubaque'\n",
      "'Processing Record 285 | Sobolevo'\n",
      "'Processing Record 286 | Hay River'\n",
      "'Processing Record 287 | Umred'\n",
      "'Processing Record 288 | Alofi'\n",
      "'Processing Record 289 | Alta Floresta'\n",
      "'Processing Record 290 | Khandyga'\n",
      "\"Processing Record 291 | Andreapol'\"\n",
      "'Processing Record 292 | Airai'\n",
      "'Processing Record 293 | Ongandjera'\n",
      "'Processing Record 294 | Faya'\n",
      "'Processing Record 295 | Sørland'\n",
      "'Processing Record 296 | Manaure'\n",
      "'Processing Record 297 | Navalmoral de la Mata'\n",
      "'Processing Record 298 | Cherëmukhovo'\n",
      "'Processing Record 299 | Farsund'\n",
      "'Processing Record 300 | Havelock'\n",
      "'Processing Record 301 | Marakkanam'\n",
      "'Processing Record 302 | Huttwil'\n",
      "'Processing Record 303 | Raja'\n",
      "'Processing Record 304 | Amapá'\n",
      "'Processing Record 305 | Palana'\n",
      "'Processing Record 306 | West Wendover'\n",
      "'Processing Record 307 | Igrim'\n",
      "City not found. Skipping...\n",
      "'Processing Record 309 | Boffa'\n",
      "'Processing Record 310 | Morgan City'\n",
      "'Processing Record 311 | Khabary'\n",
      "'Processing Record 312 | Constitución'\n",
      "'Processing Record 313 | Ibicuí'\n",
      "City not found. Skipping...\n",
      "'Processing Record 315 | Bāsār'\n",
      "'Processing Record 316 | Bengkulu'\n",
      "'Processing Record 317 | Barcelos'\n",
      "'Processing Record 318 | Buala'\n",
      "'Processing Record 319 | Dukat'\n",
      "'Processing Record 320 | Rovaniemi'\n",
      "'Processing Record 321 | Hamilton'\n",
      "'Processing Record 322 | Bambous Virieux'\n",
      "'Processing Record 323 | Wewak'\n",
      "'Processing Record 324 | Kaeo'\n",
      "'Processing Record 325 | Zhigansk'\n",
      "'Processing Record 326 | Ushtobe'\n",
      "'Processing Record 327 | Marilândia'\n",
      "'Processing Record 328 | Umluj'\n",
      "City not found. Skipping...\n",
      "'Processing Record 330 | La Rioja'\n",
      "'Processing Record 331 | San Policarpo'\n",
      "'Processing Record 332 | Fukagawa'\n",
      "'Processing Record 333 | Petropavlovsk-Kamchatskiy'\n",
      "'Processing Record 334 | Mahibadhoo'\n",
      "'Processing Record 335 | Anamur'\n",
      "'Processing Record 336 | Nizhniy Kuranakh'\n",
      "'Processing Record 337 | Skibbereen'\n",
      "'Processing Record 338 | Témiscaming'\n",
      "'Processing Record 339 | Tabas'\n",
      "'Processing Record 340 | Snåase'\n",
      "'Processing Record 341 | Grants'\n",
      "'Processing Record 342 | Guhāgar'\n",
      "'Processing Record 343 | Deputatsky'\n",
      "'Processing Record 344 | Kidal'\n",
      "'Processing Record 345 | Labytnangi'\n",
      "'Processing Record 346 | Alice Town'\n",
      "'Processing Record 347 | Enshi'\n",
      "'Processing Record 348 | Inyonga'\n",
      "'Processing Record 349 | Wamba'\n",
      "'Processing Record 350 | Hofn'\n",
      "'Processing Record 351 | Khatanga'\n",
      "'Processing Record 352 | Mandan'\n",
      "'Processing Record 353 | Axum'\n",
      "'Processing Record 354 | Normandin'\n",
      "'Processing Record 355 | Tecate'\n",
      "'Processing Record 356 | Henderson'\n",
      "'Processing Record 357 | Dingle'\n",
      "'Processing Record 358 | Ahipara'\n",
      "'Processing Record 359 | Korla'\n",
      "'Processing Record 360 | Vila do Maio'\n",
      "'Processing Record 361 | Abnūb'\n",
      "\"Processing Record 362 | Tigil'\"\n",
      "'Processing Record 363 | Eenhana'\n",
      "'Processing Record 364 | Mokhsogollokh'\n",
      "'Processing Record 365 | Birjand'\n",
      "'Processing Record 366 | Kruisfontein'\n",
      "'Processing Record 367 | Christchurch'\n",
      "'Processing Record 368 | Envira'\n",
      "'Processing Record 369 | Kirakira'\n",
      "'Processing Record 370 | Talara'\n",
      "'Processing Record 371 | Port Hawkesbury'\n",
      "'Processing Record 372 | Pathein'\n",
      "'Processing Record 373 | Palmer'\n",
      "'Processing Record 374 | Najrān'\n",
      "'Processing Record 375 | Asău'\n",
      "'Processing Record 376 | Imeni Poliny Osipenko'\n",
      "'Processing Record 377 | Baryshivka'\n",
      "'Processing Record 378 | Hobyo'\n",
      "'Processing Record 379 | Provideniya'\n",
      "'Processing Record 380 | Nieuw Amsterdam'\n",
      "'Processing Record 381 | Kahului'\n",
      "'Processing Record 382 | Mkwanga'\n",
      "'Processing Record 383 | Shenjiamen'\n",
      "'Processing Record 384 | Almeirim'\n",
      "'Processing Record 385 | Half Moon Bay'\n",
      "'Processing Record 386 | Hirara'\n",
      "'Processing Record 387 | Iracoubo'\n",
      "'Processing Record 388 | Slave Lake'\n",
      "'Processing Record 389 | Kamenka'\n",
      "'Processing Record 390 | Kharp'\n",
      "'Processing Record 391 | Navalcarnero'\n",
      "'Processing Record 392 | Ribeira Grande'\n",
      "'Processing Record 393 | Nālūt'\n",
      "'Processing Record 394 | Panabá'\n",
      "'Processing Record 395 | Severo-Yeniseyskiy'\n",
      "'Processing Record 396 | Linfen'\n",
      "'Processing Record 397 | Turtas'\n",
      "'Processing Record 398 | Arawa'\n",
      "'Processing Record 399 | Ramotswa'\n",
      "'Processing Record 400 | Bontang'\n",
      "'Processing Record 401 | Barabai'\n",
      "'Processing Record 402 | Zyryanka'\n",
      "'Processing Record 403 | Plérin'\n",
      "'Processing Record 404 | Baoro'\n",
      "'Processing Record 405 | Rocha'\n",
      "City not found. Skipping...\n",
      "City not found. Skipping...\n",
      "'Processing Record 408 | Porto-Novo'\n",
      "'Processing Record 409 | Camacha'\n",
      "'Processing Record 410 | Maniitsoq'\n",
      "'Processing Record 411 | Avera'\n",
      "'Processing Record 412 | Taikang'\n",
      "'Processing Record 413 | Haputale'\n",
      "'Processing Record 414 | Turukhansk'\n",
      "'Processing Record 415 | Stephenville'\n",
      "City not found. Skipping...\n",
      "'Processing Record 417 | Rosa Zarate'\n",
      "'Processing Record 418 | Del Rio'\n",
      "'Processing Record 419 | Shanhecun'\n",
      "'Processing Record 420 | Birin'\n",
      "'Processing Record 421 | Leh'\n",
      "'Processing Record 422 | Marsh Harbour'\n",
      "'Processing Record 423 | Rawson'\n",
      "'Processing Record 424 | Pokhara'\n",
      "'Processing Record 425 | Frontino'\n",
      "'Processing Record 426 | Samarai'\n",
      "City not found. Skipping...\n",
      "'Processing Record 428 | Kumluca'\n",
      "'Processing Record 429 | Flinders'\n",
      "'Processing Record 430 | Kapoeta'\n",
      "'Processing Record 431 | Hambantota'\n",
      "'Processing Record 432 | Pingliang'\n",
      "'Processing Record 433 | Krasnogorodskoye'\n",
      "'Processing Record 434 | Port Lincoln'\n",
      "'Processing Record 435 | Oschersleben'\n",
      "'Processing Record 436 | Shache'\n",
      "'Processing Record 437 | Algiers'\n",
      "'Processing Record 438 | Vardø'\n",
      "'Processing Record 439 | Ancud'\n",
      "'Processing Record 440 | Emerald'\n",
      "'Processing Record 441 | Ucluelet'\n",
      "'Processing Record 442 | Cervo'\n",
      "'Processing Record 443 | Suifenhe'\n",
      "'Processing Record 444 | Coahuayana Viejo'\n",
      "'Processing Record 445 | Jumla'\n",
      "'Processing Record 446 | Launceston'\n",
      "'Processing Record 447 | Manicoré'\n",
      "'Processing Record 448 | Popondetta'\n",
      "City not found. Skipping...\n",
      "'Processing Record 450 | Leesburg'\n",
      "'Processing Record 451 | Saquena'\n",
      "'Processing Record 452 | Chingola'\n",
      "'Processing Record 453 | Gamba'\n",
      "'Processing Record 454 | Dalvik'\n",
      "'Processing Record 455 | Kyrksæterøra'\n",
      "'Processing Record 456 | Moshi'\n",
      "'Processing Record 457 | Jalu'\n",
      "'Processing Record 458 | Djibo'\n",
      "'Processing Record 459 | Sisimiut'\n",
      "'Processing Record 460 | Senador Guiomard'\n",
      "City not found. Skipping...\n",
      "'Processing Record 462 | Manado'\n",
      "'Processing Record 463 | Vyritsa'\n",
      "'Processing Record 464 | Dengzhou'\n",
      "'Processing Record 465 | Qui Nhon'\n",
      "'Processing Record 466 | Iqaluit'\n",
      "'Processing Record 467 | Waipawa'\n",
      "'Processing Record 468 | Lompoc'\n",
      "'Processing Record 469 | Balkanabat'\n",
      "'Processing Record 470 | Price'\n",
      "'Processing Record 471 | Matara'\n",
      "'Processing Record 472 | Pringsewu'\n",
      "'Processing Record 473 | Neuhof'\n",
      "'Processing Record 474 | Tūkrah'\n",
      "'Processing Record 475 | Lafia'\n",
      "'Processing Record 476 | Solnechnyy'\n",
      "'Processing Record 477 | Glyadyanskoye'\n",
      "'Processing Record 478 | Hammerfest'\n",
      "'Processing Record 479 | Januária'\n",
      "'Processing Record 480 | Ponnāni'\n",
      "'Processing Record 481 | Aloleng'\n",
      "'Processing Record 482 | Peterhead'\n",
      "'Processing Record 483 | Kérouané'\n",
      "'Processing Record 484 | Broken Hill'\n",
      "'Processing Record 485 | Arlit'\n",
      "'Processing Record 486 | Toktogul'\n",
      "City not found. Skipping...\n",
      "'Processing Record 488 | Kysyl-Syr'\n",
      "'Processing Record 489 | Ugoofaaru'\n",
      "City not found. Skipping...\n",
      "'Processing Record 491 | Verkhnevilyuysk'\n",
      "'Processing Record 492 | Ishigaki'\n",
      "\"Processing Record 493 | Yemel'yanovo\"\n",
      "'Processing Record 494 | Bachaquero'\n",
      "'Processing Record 495 | Karlskrona'\n",
      "City not found. Skipping...\n",
      "'Processing Record 497 | Cabreúva'\n",
      "'Processing Record 498 | Bagotville'\n",
      "'Processing Record 499 | Sangar'\n",
      "'Processing Record 500 | Stephenville Crossing'\n",
      "'Processing Record 501 | Viedma'\n",
      "'Processing Record 502 | Bay Roberts'\n",
      "'Processing Record 503 | Imeni Vorovskogo'\n",
      "'Processing Record 504 | Lerum'\n",
      "'Processing Record 505 | San Ramon'\n",
      "'Processing Record 506 | Muyezerskiy'\n",
      "'Processing Record 507 | Vana-Vigala'\n",
      "'Processing Record 508 | Dauphin'\n",
      "'Processing Record 509 | Jacareí'\n",
      "'Processing Record 510 | Terra Santa'\n",
      "'Processing Record 511 | Uyemskiy'\n",
      "'Processing Record 512 | Lamu'\n",
      "'Processing Record 513 | Ellensburg'\n",
      "'Processing Record 514 | Waspán'\n",
      "'Processing Record 515 | Porbandar'\n",
      "'Processing Record 516 | DeLand'\n",
      "'Processing Record 517 | Sulangan'\n",
      "City not found. Skipping...\n",
      "'Processing Record 519 | Umba'\n",
      "'Processing Record 520 | Camaná'\n",
      "'Processing Record 521 | Nampula'\n",
      "City not found. Skipping...\n",
      "'Processing Record 523 | Poya'\n",
      "'Processing Record 524 | Kabanjahe'\n",
      "'Processing Record 525 | Harindānga'\n",
      "'Processing Record 526 | Mahébourg'\n",
      "'Processing Record 527 | Mizdah'\n",
      "'Processing Record 528 | Novoagansk'\n",
      "City not found. Skipping...\n",
      "'Processing Record 530 | Kumul'\n",
      "City not found. Skipping...\n",
      "'Processing Record 532 | Qaqortoq'\n",
      "'Processing Record 533 | Hailin'\n",
      "'Processing Record 534 | Kulhudhuffushi'\n",
      "'Processing Record 535 | Jinchang'\n",
      "'Processing Record 536 | Los Llanos de Aridane'\n",
      "'Processing Record 537 | Altus'\n",
      "'Processing Record 538 | Vilcún'\n",
      "'Processing Record 539 | Ankang'\n",
      "'Processing Record 540 | Pangody'\n",
      "'Processing Record 541 | Zliten'\n",
      "City not found. Skipping...\n",
      "'Processing Record 543 | Karasburg'\n",
      "'Processing Record 544 | Līsakovsk'\n",
      "'Processing Record 545 | São Borja'\n",
      "'Processing Record 546 | São João da Barra'\n",
      "'Processing Record 547 | Lagoa'\n",
      "'Processing Record 548 | Watsa'\n",
      "City not found. Skipping...\n",
      "'Processing Record 550 | Lemoore'\n",
      "'Processing Record 551 | San-Pédro'\n",
      "'Processing Record 552 | Smithers'\n",
      "'Processing Record 553 | Vestmannaeyjar'\n",
      "'Processing Record 554 | Itoman'\n",
      "'Processing Record 555 | Picuí'\n",
      "'Processing Record 556 | Anadyr'\n",
      "'Processing Record 557 | Progreso'\n",
      "'Processing Record 558 | Shawnee'\n",
      "City not found. Skipping...\n",
      "'Processing Record 560 | Bariloche'\n",
      "'Processing Record 561 | Antofagasta'\n",
      "'Processing Record 562 | Tateyama'\n",
      "'Processing Record 563 | Antalaha'\n",
      "'Processing Record 564 | Qūchān'\n",
      "City not found. Skipping...\n",
      "'Processing Record 566 | Province of Trapani'\n",
      "'Processing Record 567 | Jishou'\n",
      "\"Processing Record 568 | Ust'-Omchug\"\n",
      "'Processing Record 569 | Hyères'\n",
      "'Processing Record 570 | Katherine'\n",
      "'Processing Record 571 | Cantagalo'\n",
      "'Processing Record 572 | Oranjemund'\n",
      "'Processing Record 573 | Tirano'\n",
      "'Processing Record 574 | Ilovlya'\n",
      "'Processing Record 575 | Hibbing'\n",
      "'Processing Record 576 | Mórrope'\n",
      "City not found. Skipping...\n",
      "'Processing Record 578 | São José da Coroa Grande'\n",
      "'Processing Record 579 | Pisco'\n",
      "'Processing Record 580 | Ternate'\n",
      "City not found. Skipping...\n",
      "'Processing Record 582 | Yatou'\n",
      "'Processing Record 583 | Santa Vitória do Palmar'\n",
      "City not found. Skipping...\n",
      "'Processing Record 585 | Esso'\n",
      "'Processing Record 586 | Haapiti'\n",
      "'Processing Record 587 | Medvedka'\n",
      "City not found. Skipping...\n",
      "'Processing Record 589 | Kualakapuas'\n",
      "'Processing Record 590 | Port Macquarie'\n",
      "'Processing Record 591 | Isla Mujeres'\n",
      "City not found. Skipping...\n",
      "'Processing Record 593 | Sampit'\n",
      "'Processing Record 594 | Cayenne'\n",
      "City not found. Skipping...\n",
      "'Processing Record 596 | Simpsonville'\n",
      "'Processing Record 597 | Balaipungut'\n",
      "City not found. Skipping...\n",
      "'Processing Record 599 | Mossamedes'\n",
      "'Processing Record 600 | Pekalongan'\n",
      "\"Processing Record 601 | Mil'kovo\"\n",
      "'Processing Record 602 | Mubi'\n",
      "'Processing Record 603 | Bandar-e Lengeh'\n",
      "'Processing Record 604 | Lokosovo'\n",
      "'Processing Record 605 | Ormara'\n",
      "'Processing Record 606 | Hudson Bay'\n",
      "'Processing Record 607 | Lahaina'\n",
      "'Processing Record 608 | Megion'\n",
      "'Processing Record 609 | Prainha'\n",
      "'Processing Record 610 | Te Anau'\n",
      "'Processing Record 611 | Mach'\n",
      "'Processing Record 612 | Luancheng'\n",
      "'Processing Record 613 | Carauari'\n",
      "'Processing Record 614 | Beyneu'\n",
      "'Processing Record 615 | Sheregesh'\n",
      "'Processing Record 616 | Tabou'\n",
      "'Processing Record 617 | Mangan'\n",
      "'Processing Record 618 | Ust-Kuyga'\n",
      "'Processing Record 619 | Auki'\n",
      "'Processing Record 620 | Lupeni'\n",
      "'Processing Record 621 | Kapchorwa'\n",
      "'Processing Record 622 | Virtsu'\n",
      "'Processing Record 623 | Shadrinsk'\n",
      "'Processing Record 624 | Namatanai'\n",
      "'Processing Record 625 | Xingyi'\n",
      "'Processing Record 626 | Choya'\n",
      "'Processing Record 627 | Fort Saint James'\n",
      "City not found. Skipping...\n",
      "'Processing Record 629 | Taoudenni'\n",
      "'Processing Record 630 | São Félix do Xingu'\n",
      "'Processing Record 631 | Sioux Lookout'\n",
      "'Processing Record 632 | Vestmanna'\n",
      "'Processing Record 633 | Kiunga'\n",
      "'Processing Record 634 | Chernyakhovsk'\n",
      "'Processing Record 635 | Touros'\n",
      "'Processing Record 636 | Wajir'\n",
      "'Processing Record 637 | Tuzla'\n",
      "'Processing Record 638 | Flin Flon'\n",
      "'Processing Record 639 | Ixtapa'\n",
      "'Processing Record 640 | Laguna'\n",
      "'Processing Record 641 | Zeya'\n",
      "'Processing Record 642 | Houlton'\n",
      "\"Processing Record 643 | Vrangel'\"\n",
      "'Processing Record 644 | Kinshasa'\n",
      "'Processing Record 645 | Farafangana'\n",
      "City not found. Skipping...\n",
      "----------------------------------\n",
      "Data Retrieval Complete\n",
      "----------------------------------\n"
     ]
    }
   ],
   "source": [
    "# Save config information\n",
    "url = \"http://api.openweathermap.org/data/2.5/weather?\"\n",
    "\n",
    "#Create a variable to count records\n",
    "record = 0\n",
    "\n",
    "# set up lists to hold reponse info\n",
    "city_nm = []\n",
    "lat = []\n",
    "lng = []\n",
    "max_temp = []\n",
    "humidity = []\n",
    "cloudiness = []\n",
    "wind_spd = []\n",
    "country = []\n",
    "dt = []\n",
    "\n",
    "#Performing successive API calls by looping through our list of cities\n",
    "\n",
    "print(\"Beginning Data Retrieval\")\n",
    "print(\"----------------------------------\")\n",
    "\n",
    "for city in cities:\n",
    "\n",
    "    # Build query URL\n",
    "    query_url = url + \"appid=\" + weather_api_key + \"&q=\" + city\n",
    "\n",
    "    # Get weather data\n",
    "    weather_response = requests.get(query_url)\n",
    "    weather_data = weather_response.json()\n",
    "\n",
    "    if weather_data[\"cod\"] == '404':\n",
    "\n",
    "        print(f\"City not found. Skipping...\")\n",
    "\n",
    "    else:\n",
    "\n",
    "        if record == 0:\n",
    "            # Get city name from JSON response\n",
    "            city_name = weather_data[\"name\"]\n",
    "\n",
    "            # Print city name being processed\n",
    "            pprint(f\"Processing Record {1 + record} | {city_name}\")\n",
    "            \n",
    "            # Loop through the list of cities and perform a request for data on each\n",
    "            city_nm.append(weather_data['name'])\n",
    "            lat.append(weather_data['coord']['lat'])\n",
    "            lng.append(weather_data['coord']['lon'])\n",
    "            max_temp.append(weather_data['main']['temp_max'])\n",
    "            humidity.append(weather_data['main']['humidity'])\n",
    "            cloudiness.append(weather_data['clouds']['all'])\n",
    "            wind_spd.append(weather_data['wind']['speed'])\n",
    "            country.append(weather_data['sys']['country'])\n",
    "            dt.append(weather_data['dt'])\n",
    "            \n",
    "        else:\n",
    "            # Get city name from JSON response\n",
    "            city_name = weather_data[\"name\"]\n",
    "\n",
    "            # Get the temperature from the response\n",
    "            pprint(f\"Processing Record {1 + record} | {city_name}\")\n",
    "            \n",
    "            city_nm.append(weather_data['name'])\n",
    "            lat.append(weather_data['coord']['lat'])\n",
    "            lng.append(weather_data['coord']['lon'])\n",
    "            max_temp.append(weather_data['main']['temp_max'])\n",
    "            humidity.append(weather_data['main']['humidity'])\n",
    "            cloudiness.append(weather_data['clouds']['all'])\n",
    "            wind_spd.append(weather_data['wind']['speed'])\n",
    "            country.append(weather_data['sys']['country'])\n",
    "            dt.append(weather_data['dt'])                     \n",
    "\n",
    "    #Iterate the record variable per iteration\n",
    "    record = record + 1\n",
    "\n",
    "print(\"----------------------------------\")\n",
    "print(\"Data Retrieval Complete\")\n",
    "print(\"----------------------------------\")"
   ]
  },
  {
   "cell_type": "code",
   "execution_count": 172,
   "metadata": {},
   "outputs": [
    {
     "name": "stdout",
     "output_type": "stream",
     "text": [
      "{'base': 'stations',\n",
      " 'clouds': {'all': 90},\n",
      " 'cod': 200,\n",
      " 'coord': {'lat': 25.7743, 'lon': -80.1937},\n",
      " 'dt': 1612675049,\n",
      " 'id': 4164138,\n",
      " 'main': {'feels_like': 298.12,\n",
      "          'humidity': 94,\n",
      "          'pressure': 1014,\n",
      "          'temp': 296.26,\n",
      "          'temp_max': 297.15,\n",
      "          'temp_min': 295.93},\n",
      " 'name': 'Miami',\n",
      " 'sys': {'country': 'US',\n",
      "         'id': 4896,\n",
      "         'sunrise': 1612699272,\n",
      "         'sunset': 1612739323,\n",
      "         'type': 1},\n",
      " 'timezone': -18000,\n",
      " 'visibility': 9656,\n",
      " 'weather': [{'description': 'mist', 'icon': '50n', 'id': 701, 'main': 'Mist'}],\n",
      " 'wind': {'deg': 160, 'speed': 4.12}}\n"
     ]
    }
   ],
   "source": [
    "# Build query URL\n",
    "query_url = url + \"appid=\" + weather_api_key + \"&q=\" + \"Miami\"\n",
    "\n",
    "# Get weather data\n",
    "weather_response = requests.get(query_url)\n",
    "weather_data = weather_response.json()\n",
    "\n",
    "pprint(weather_data)"
   ]
  },
  {
   "cell_type": "markdown",
   "metadata": {},
   "source": [
    "### Convert Raw Data to DataFrame\n",
    "* Export the city data into a .csv.\n",
    "* Display the DataFrame"
   ]
  },
  {
   "cell_type": "code",
   "execution_count": 168,
   "metadata": {},
   "outputs": [
    {
     "data": {
      "text/html": [
       "<div>\n",
       "<style scoped>\n",
       "    .dataframe tbody tr th:only-of-type {\n",
       "        vertical-align: middle;\n",
       "    }\n",
       "\n",
       "    .dataframe tbody tr th {\n",
       "        vertical-align: top;\n",
       "    }\n",
       "\n",
       "    .dataframe thead th {\n",
       "        text-align: right;\n",
       "    }\n",
       "</style>\n",
       "<table border=\"1\" class=\"dataframe\">\n",
       "  <thead>\n",
       "    <tr style=\"text-align: right;\">\n",
       "      <th></th>\n",
       "      <th>City</th>\n",
       "      <th>Lat</th>\n",
       "      <th>Lng</th>\n",
       "      <th>Max Temp</th>\n",
       "      <th>Humidity</th>\n",
       "      <th>Cloudiness</th>\n",
       "      <th>Wind Speed</th>\n",
       "      <th>Country</th>\n",
       "      <th>Date</th>\n",
       "    </tr>\n",
       "  </thead>\n",
       "  <tbody>\n",
       "    <tr>\n",
       "      <th>0</th>\n",
       "      <td>Rikitea</td>\n",
       "      <td>-23.1203</td>\n",
       "      <td>-134.9692</td>\n",
       "      <td>298.85</td>\n",
       "      <td>71</td>\n",
       "      <td>89</td>\n",
       "      <td>4.98</td>\n",
       "      <td>PF</td>\n",
       "      <td>1612674745</td>\n",
       "    </tr>\n",
       "    <tr>\n",
       "      <th>1</th>\n",
       "      <td>Ushuaia</td>\n",
       "      <td>-54.8000</td>\n",
       "      <td>-68.3000</td>\n",
       "      <td>281.15</td>\n",
       "      <td>76</td>\n",
       "      <td>75</td>\n",
       "      <td>4.63</td>\n",
       "      <td>AR</td>\n",
       "      <td>1612674946</td>\n",
       "    </tr>\n",
       "    <tr>\n",
       "      <th>2</th>\n",
       "      <td>Tortolì</td>\n",
       "      <td>39.9256</td>\n",
       "      <td>9.6572</td>\n",
       "      <td>293.15</td>\n",
       "      <td>26</td>\n",
       "      <td>40</td>\n",
       "      <td>9.26</td>\n",
       "      <td>IT</td>\n",
       "      <td>1612674996</td>\n",
       "    </tr>\n",
       "    <tr>\n",
       "      <th>3</th>\n",
       "      <td>Bluff</td>\n",
       "      <td>-46.6000</td>\n",
       "      <td>168.3333</td>\n",
       "      <td>289.01</td>\n",
       "      <td>79</td>\n",
       "      <td>0</td>\n",
       "      <td>6.30</td>\n",
       "      <td>NZ</td>\n",
       "      <td>1612674997</td>\n",
       "    </tr>\n",
       "    <tr>\n",
       "      <th>4</th>\n",
       "      <td>Mildura</td>\n",
       "      <td>-34.2000</td>\n",
       "      <td>142.1500</td>\n",
       "      <td>299.26</td>\n",
       "      <td>34</td>\n",
       "      <td>23</td>\n",
       "      <td>4.63</td>\n",
       "      <td>AU</td>\n",
       "      <td>1612674997</td>\n",
       "    </tr>\n",
       "  </tbody>\n",
       "</table>\n",
       "</div>"
      ],
      "text/plain": [
       "      City      Lat       Lng  Max Temp  Humidity  Cloudiness  Wind Speed  \\\n",
       "0  Rikitea -23.1203 -134.9692    298.85        71          89        4.98   \n",
       "1  Ushuaia -54.8000  -68.3000    281.15        76          75        4.63   \n",
       "2  Tortolì  39.9256    9.6572    293.15        26          40        9.26   \n",
       "3    Bluff -46.6000  168.3333    289.01        79           0        6.30   \n",
       "4  Mildura -34.2000  142.1500    299.26        34          23        4.63   \n",
       "\n",
       "  Country        Date  \n",
       "0      PF  1612674745  \n",
       "1      AR  1612674946  \n",
       "2      IT  1612674996  \n",
       "3      NZ  1612674997  \n",
       "4      AU  1612674997  "
      ]
     },
     "execution_count": 168,
     "metadata": {},
     "output_type": "execute_result"
    }
   ],
   "source": [
    "# create a data frame from city_nm, lat, lng, max_temp, humidity, cloudiness, wind_spd, country, and dt lists\n",
    "city_weather_dict = {\n",
    "    \"City\": city_nm,\n",
    "    \"Lat\": lat,\n",
    "    \"Lng\": lng,\n",
    "    \"Max Temp\": max_temp,\n",
    "    \"Humidity\": humidity,\n",
    "    \"Cloudiness\": cloudiness,\n",
    "    \"Wind Speed\": wind_spd,\n",
    "    \"Country\": country,\n",
    "    \"Date\": dt,\n",
    "}\n",
    "\n",
    "city_weather_df = pd.DataFrame(city_weather_dict)\n",
    "city_weather_df.head()"
   ]
  },
  {
   "cell_type": "code",
   "execution_count": 169,
   "metadata": {},
   "outputs": [
    {
     "data": {
      "text/html": [
       "<div>\n",
       "<style scoped>\n",
       "    .dataframe tbody tr th:only-of-type {\n",
       "        vertical-align: middle;\n",
       "    }\n",
       "\n",
       "    .dataframe tbody tr th {\n",
       "        vertical-align: top;\n",
       "    }\n",
       "\n",
       "    .dataframe thead th {\n",
       "        text-align: right;\n",
       "    }\n",
       "</style>\n",
       "<table border=\"1\" class=\"dataframe\">\n",
       "  <thead>\n",
       "    <tr style=\"text-align: right;\">\n",
       "      <th></th>\n",
       "      <th>Lat</th>\n",
       "      <th>Lng</th>\n",
       "      <th>Max Temp</th>\n",
       "      <th>Humidity</th>\n",
       "      <th>Cloudiness</th>\n",
       "      <th>Wind Speed</th>\n",
       "      <th>Date</th>\n",
       "    </tr>\n",
       "  </thead>\n",
       "  <tbody>\n",
       "    <tr>\n",
       "      <th>count</th>\n",
       "      <td>596.000000</td>\n",
       "      <td>596.000000</td>\n",
       "      <td>596.000000</td>\n",
       "      <td>596.000000</td>\n",
       "      <td>596.000000</td>\n",
       "      <td>596.000000</td>\n",
       "      <td>5.960000e+02</td>\n",
       "    </tr>\n",
       "    <tr>\n",
       "      <th>mean</th>\n",
       "      <td>20.643775</td>\n",
       "      <td>21.876571</td>\n",
       "      <td>282.837601</td>\n",
       "      <td>72.936242</td>\n",
       "      <td>50.865772</td>\n",
       "      <td>3.824463</td>\n",
       "      <td>1.612675e+09</td>\n",
       "    </tr>\n",
       "    <tr>\n",
       "      <th>std</th>\n",
       "      <td>33.188326</td>\n",
       "      <td>90.036624</td>\n",
       "      <td>17.937159</td>\n",
       "      <td>20.484041</td>\n",
       "      <td>39.662807</td>\n",
       "      <td>2.847387</td>\n",
       "      <td>7.557032e+01</td>\n",
       "    </tr>\n",
       "    <tr>\n",
       "      <th>min</th>\n",
       "      <td>-54.800000</td>\n",
       "      <td>-175.200000</td>\n",
       "      <td>231.480000</td>\n",
       "      <td>11.000000</td>\n",
       "      <td>0.000000</td>\n",
       "      <td>0.020000</td>\n",
       "      <td>1.612675e+09</td>\n",
       "    </tr>\n",
       "    <tr>\n",
       "      <th>25%</th>\n",
       "      <td>-5.879675</td>\n",
       "      <td>-56.237900</td>\n",
       "      <td>272.165000</td>\n",
       "      <td>63.000000</td>\n",
       "      <td>5.000000</td>\n",
       "      <td>1.547500</td>\n",
       "      <td>1.612675e+09</td>\n",
       "    </tr>\n",
       "    <tr>\n",
       "      <th>50%</th>\n",
       "      <td>25.052300</td>\n",
       "      <td>25.150750</td>\n",
       "      <td>289.080000</td>\n",
       "      <td>78.500000</td>\n",
       "      <td>50.500000</td>\n",
       "      <td>3.090000</td>\n",
       "      <td>1.612675e+09</td>\n",
       "    </tr>\n",
       "    <tr>\n",
       "      <th>75%</th>\n",
       "      <td>49.502500</td>\n",
       "      <td>102.196800</td>\n",
       "      <td>297.000000</td>\n",
       "      <td>88.000000</td>\n",
       "      <td>90.000000</td>\n",
       "      <td>5.140000</td>\n",
       "      <td>1.612675e+09</td>\n",
       "    </tr>\n",
       "    <tr>\n",
       "      <th>max</th>\n",
       "      <td>78.218600</td>\n",
       "      <td>179.316700</td>\n",
       "      <td>311.480000</td>\n",
       "      <td>100.000000</td>\n",
       "      <td>100.000000</td>\n",
       "      <td>18.010000</td>\n",
       "      <td>1.612675e+09</td>\n",
       "    </tr>\n",
       "  </tbody>\n",
       "</table>\n",
       "</div>"
      ],
      "text/plain": [
       "              Lat         Lng    Max Temp    Humidity  Cloudiness  Wind Speed  \\\n",
       "count  596.000000  596.000000  596.000000  596.000000  596.000000  596.000000   \n",
       "mean    20.643775   21.876571  282.837601   72.936242   50.865772    3.824463   \n",
       "std     33.188326   90.036624   17.937159   20.484041   39.662807    2.847387   \n",
       "min    -54.800000 -175.200000  231.480000   11.000000    0.000000    0.020000   \n",
       "25%     -5.879675  -56.237900  272.165000   63.000000    5.000000    1.547500   \n",
       "50%     25.052300   25.150750  289.080000   78.500000   50.500000    3.090000   \n",
       "75%     49.502500  102.196800  297.000000   88.000000   90.000000    5.140000   \n",
       "max     78.218600  179.316700  311.480000  100.000000  100.000000   18.010000   \n",
       "\n",
       "               Date  \n",
       "count  5.960000e+02  \n",
       "mean   1.612675e+09  \n",
       "std    7.557032e+01  \n",
       "min    1.612675e+09  \n",
       "25%    1.612675e+09  \n",
       "50%    1.612675e+09  \n",
       "75%    1.612675e+09  \n",
       "max    1.612675e+09  "
      ]
     },
     "execution_count": 169,
     "metadata": {},
     "output_type": "execute_result"
    }
   ],
   "source": [
    "city_weather_stats_df = city_weather_df.describe()\n",
    "city_weather_stats_df"
   ]
  },
  {
   "cell_type": "markdown",
   "metadata": {},
   "source": [
    "## Inspect the data and remove the cities where the humidity > 100%.\n",
    "----\n",
    "Skip this step if there are no cities that have humidity > 100%. "
   ]
  },
  {
   "cell_type": "code",
   "execution_count": 175,
   "metadata": {},
   "outputs": [
    {
     "data": {
      "text/html": [
       "<div>\n",
       "<style scoped>\n",
       "    .dataframe tbody tr th:only-of-type {\n",
       "        vertical-align: middle;\n",
       "    }\n",
       "\n",
       "    .dataframe tbody tr th {\n",
       "        vertical-align: top;\n",
       "    }\n",
       "\n",
       "    .dataframe thead th {\n",
       "        text-align: right;\n",
       "    }\n",
       "</style>\n",
       "<table border=\"1\" class=\"dataframe\">\n",
       "  <thead>\n",
       "    <tr style=\"text-align: right;\">\n",
       "      <th></th>\n",
       "      <th>City</th>\n",
       "      <th>Lat</th>\n",
       "      <th>Lng</th>\n",
       "      <th>Max Temp</th>\n",
       "      <th>Humidity</th>\n",
       "      <th>Cloudiness</th>\n",
       "      <th>Wind Speed</th>\n",
       "      <th>Country</th>\n",
       "      <th>Date</th>\n",
       "    </tr>\n",
       "  </thead>\n",
       "  <tbody>\n",
       "  </tbody>\n",
       "</table>\n",
       "</div>"
      ],
      "text/plain": [
       "Empty DataFrame\n",
       "Columns: [City, Lat, Lng, Max Temp, Humidity, Cloudiness, Wind Speed, Country, Date]\n",
       "Index: []"
      ]
     },
     "execution_count": 175,
     "metadata": {},
     "output_type": "execute_result"
    }
   ],
   "source": [
    "# Check if there are cities in the dataframe that has humidity > 100%\n",
    "highly_humid_cities_df = city_weather_df.loc[city_weather_df[\"Humidity\"] > 100, :]\n",
    "highly_humid_cities_df.head()"
   ]
  },
  {
   "cell_type": "code",
   "execution_count": 17,
   "metadata": {},
   "outputs": [
    {
     "data": {
      "text/plain": [
       "Int64Index([], dtype='int64')"
      ]
     },
     "execution_count": 17,
     "metadata": {},
     "output_type": "execute_result"
    }
   ],
   "source": [
    "#  Get the indices of cities that have humidity over 100%.\n"
   ]
  },
  {
   "cell_type": "code",
   "execution_count": 19,
   "metadata": {},
   "outputs": [
    {
     "data": {
      "text/html": [
       "<div>\n",
       "<style scoped>\n",
       "    .dataframe tbody tr th:only-of-type {\n",
       "        vertical-align: middle;\n",
       "    }\n",
       "\n",
       "    .dataframe tbody tr th {\n",
       "        vertical-align: top;\n",
       "    }\n",
       "\n",
       "    .dataframe thead th {\n",
       "        text-align: right;\n",
       "    }\n",
       "</style>\n",
       "<table border=\"1\" class=\"dataframe\">\n",
       "  <thead>\n",
       "    <tr style=\"text-align: right;\">\n",
       "      <th></th>\n",
       "      <th>City</th>\n",
       "      <th>Lat</th>\n",
       "      <th>Lng</th>\n",
       "      <th>Max Temp</th>\n",
       "      <th>Humidity</th>\n",
       "      <th>Cloudiness</th>\n",
       "      <th>Wind Speed</th>\n",
       "      <th>Country</th>\n",
       "      <th>Date</th>\n",
       "    </tr>\n",
       "  </thead>\n",
       "  <tbody>\n",
       "    <tr>\n",
       "      <td>0</td>\n",
       "      <td>butaritari</td>\n",
       "      <td>3.07</td>\n",
       "      <td>172.79</td>\n",
       "      <td>83.32</td>\n",
       "      <td>74</td>\n",
       "      <td>84</td>\n",
       "      <td>10.42</td>\n",
       "      <td>KI</td>\n",
       "      <td>1593605283</td>\n",
       "    </tr>\n",
       "    <tr>\n",
       "      <td>1</td>\n",
       "      <td>yerbogachen</td>\n",
       "      <td>61.28</td>\n",
       "      <td>108.01</td>\n",
       "      <td>79.52</td>\n",
       "      <td>58</td>\n",
       "      <td>20</td>\n",
       "      <td>7.70</td>\n",
       "      <td>RU</td>\n",
       "      <td>1593605121</td>\n",
       "    </tr>\n",
       "    <tr>\n",
       "      <td>2</td>\n",
       "      <td>cape town</td>\n",
       "      <td>-33.93</td>\n",
       "      <td>18.42</td>\n",
       "      <td>73.00</td>\n",
       "      <td>77</td>\n",
       "      <td>27</td>\n",
       "      <td>4.70</td>\n",
       "      <td>ZA</td>\n",
       "      <td>1593605039</td>\n",
       "    </tr>\n",
       "    <tr>\n",
       "      <td>3</td>\n",
       "      <td>touba</td>\n",
       "      <td>8.28</td>\n",
       "      <td>-7.68</td>\n",
       "      <td>79.97</td>\n",
       "      <td>75</td>\n",
       "      <td>82</td>\n",
       "      <td>3.58</td>\n",
       "      <td>CI</td>\n",
       "      <td>1593605284</td>\n",
       "    </tr>\n",
       "    <tr>\n",
       "      <td>4</td>\n",
       "      <td>jamestown</td>\n",
       "      <td>42.10</td>\n",
       "      <td>-79.24</td>\n",
       "      <td>64.00</td>\n",
       "      <td>88</td>\n",
       "      <td>1</td>\n",
       "      <td>6.93</td>\n",
       "      <td>US</td>\n",
       "      <td>1593605284</td>\n",
       "    </tr>\n",
       "  </tbody>\n",
       "</table>\n",
       "</div>"
      ],
      "text/plain": [
       "          City    Lat     Lng  Max Temp  Humidity  Cloudiness  Wind Speed  \\\n",
       "0   butaritari   3.07  172.79     83.32        74          84       10.42   \n",
       "1  yerbogachen  61.28  108.01     79.52        58          20        7.70   \n",
       "2    cape town -33.93   18.42     73.00        77          27        4.70   \n",
       "3        touba   8.28   -7.68     79.97        75          82        3.58   \n",
       "4    jamestown  42.10  -79.24     64.00        88           1        6.93   \n",
       "\n",
       "  Country        Date  \n",
       "0      KI  1593605283  \n",
       "1      RU  1593605121  \n",
       "2      ZA  1593605039  \n",
       "3      CI  1593605284  \n",
       "4      US  1593605284  "
      ]
     },
     "execution_count": 19,
     "metadata": {},
     "output_type": "execute_result"
    }
   ],
   "source": [
    "# Make a new DataFrame equal to the city data to drop all humidity outliers by index.\n",
    "# Passing \"inplace=False\" will make a copy of the city_data DataFrame, which we call \"clean_city_data\".\n"
   ]
  },
  {
   "cell_type": "code",
   "execution_count": null,
   "metadata": {},
   "outputs": [],
   "source": [
    "\n"
   ]
  },
  {
   "cell_type": "markdown",
   "metadata": {},
   "source": [
    "## Plotting the Data\n",
    "* Use proper labeling of the plots using plot titles (including date of analysis) and axes labels.\n",
    "* Save the plotted figures as .pngs."
   ]
  },
  {
   "cell_type": "markdown",
   "metadata": {},
   "source": [
    "## Latitude vs. Temperature Plot"
   ]
  },
  {
   "cell_type": "code",
   "execution_count": 182,
   "metadata": {
    "scrolled": true
   },
   "outputs": [
    {
     "data": {
      "text/plain": [
       "Text(0, 0.5, 'Max Temperature (F)')"
      ]
     },
     "execution_count": 182,
     "metadata": {},
     "output_type": "execute_result"
    },
    {
     "data": {
      "image/png": "[encoded data removed]",
      "text/plain": [
       "<Figure size 432x288 with 1 Axes>"
      ]
     },
     "metadata": {
      "needs_background": "light"
     },
     "output_type": "display_data"
    }
   ],
   "source": [
    "# Generate a scatter plot of Latitude vs. Temperature for cities in dataframe\n",
    "lat_temp = city_weather_df[[\"Lat\", \"Max Temp\"]]\n",
    "\n",
    "plt.scatter(lat_temp [\"Lat\"], lat_temp[\"Max Temp\"], \n",
    "            marker=\"o\", facecolors=\"teal\", edgecolors=\"black\")\n",
    "plt.grid(True)\n",
    "\n",
    "plt.title(\"City Latitude vs. Max Temperature (02/07/2021)\")\n",
    "plt.xlabel(\"Latitude\")\n",
    "plt.ylabel(\"Max Temperature (F)\")"
   ]
  },
  {
   "cell_type": "markdown",
   "metadata": {},
   "source": [
    "## Latitude vs. Humidity Plot"
   ]
  },
  {
   "cell_type": "code",
   "execution_count": 183,
   "metadata": {},
   "outputs": [
    {
     "data": {
      "text/plain": [
       "Text(0, 0.5, 'Humidity (%)')"
      ]
     },
     "execution_count": 183,
     "metadata": {},
     "output_type": "execute_result"
    },
    {
     "data": {
      "image/png": "[encoded data removed]",
      "text/plain": [
       "<Figure size 432x288 with 1 Axes>"
      ]
     },
     "metadata": {
      "needs_background": "light"
     },
     "output_type": "display_data"
    }
   ],
   "source": [
    "# Generate a scatter plot of Latitude vs. Temperature for cities in dataframe\n",
    "lat_humidity = city_weather_df[[\"Lat\", \"Humidity\"]]\n",
    "\n",
    "plt.scatter(lat_humidity [\"Lat\"], lat_humidity[\"Humidity\"], \n",
    "            marker=\"o\", facecolors=\"teal\", edgecolors=\"black\")\n",
    "plt.grid(True)\n",
    "\n",
    "plt.title(\"City Latitude vs. Humidity (02/07/2021)\")\n",
    "plt.xlabel(\"Latitude\")\n",
    "plt.ylabel(\"Humidity (%)\")"
   ]
  },
  {
   "cell_type": "markdown",
   "metadata": {},
   "source": [
    "## Latitude vs. Cloudiness Plot"
   ]
  },
  {
   "cell_type": "code",
   "execution_count": 184,
   "metadata": {},
   "outputs": [
    {
     "data": {
      "text/plain": [
       "Text(0, 0.5, 'Cloudiness (%)')"
      ]
     },
     "execution_count": 184,
     "metadata": {},
     "output_type": "execute_result"
    },
    {
     "data": {
      "image/png": "[encoded data removed]",
      "text/plain": [
       "<Figure size 432x288 with 1 Axes>"
      ]
     },
     "metadata": {
      "needs_background": "light"
     },
     "output_type": "display_data"
    }
   ],
   "source": [
    "# Generate a scatter plot of Latitude vs. Temperature for cities in dataframe\n",
    "lat_cloud = city_weather_df[[\"Lat\", \"Cloudiness\"]]\n",
    "\n",
    "plt.scatter(lat_cloud[\"Lat\"], lat_cloud[\"Cloudiness\"], \n",
    "            marker=\"o\", facecolors=\"teal\", edgecolors=\"black\")\n",
    "plt.grid(True)\n",
    "\n",
    "plt.title(\"City Latitude vs. Cloudiness (02/07/2021)\")\n",
    "plt.xlabel(\"Latitude\")\n",
    "plt.ylabel(\"Cloudiness (%)\")"
   ]
  },
  {
   "cell_type": "markdown",
   "metadata": {},
   "source": [
    "## Latitude vs. Wind Speed Plot"
   ]
  },
  {
   "cell_type": "code",
   "execution_count": 185,
   "metadata": {},
   "outputs": [
    {
     "data": {
      "text/plain": [
       "Text(0, 0.5, 'Wind Speed (mph)')"
      ]
     },
     "execution_count": 185,
     "metadata": {},
     "output_type": "execute_result"
    },
    {
     "data": {
      "image/png": "[encoded data removed]",
      "text/plain": [
       "<Figure size 432x288 with 1 Axes>"
      ]
     },
     "metadata": {
      "needs_background": "light"
     },
     "output_type": "display_data"
    }
   ],
   "source": [
    "# Generate a scatter plot of Latitude vs. Temperature for cities in dataframe\n",
    "lat_wind = city_weather_df[[\"Lat\", \"Wind Speed\"]]\n",
    "\n",
    "plt.scatter(lat_wind[\"Lat\"], lat_wind[\"Wind Speed\"], \n",
    "            marker=\"o\", facecolors=\"teal\", edgecolors=\"black\")\n",
    "plt.grid(True)\n",
    "\n",
    "plt.title(\"City Latitude vs. Wind Speed (02/07/2021)\")\n",
    "plt.xlabel(\"Latitude\")\n",
    "plt.ylabel(\"Wind Speed (mph)\")"
   ]
  },
  {
   "cell_type": "markdown",
   "metadata": {},
   "source": [
    "## Linear Regression"
   ]
  },
  {
   "cell_type": "markdown",
   "metadata": {},
   "source": [
    "####  Northern Hemisphere - Max Temp vs. Latitude Linear Regression"
   ]
  },
  {
   "cell_type": "code",
   "execution_count": 25,
   "metadata": {},
   "outputs": [
    {
     "name": "stdout",
     "output_type": "stream",
     "text": [
      "The r-value is: 0.46937863826630627\n"
     ]
    },
    {
     "data": {
      "image/png": "[encoded data removed]",
      "text/plain": [
       "<Figure size 432x288 with 1 Axes>"
      ]
     },
     "metadata": {
      "needs_background": "light"
     },
     "output_type": "display_data"
    }
   ],
   "source": []
  },
  {
   "cell_type": "markdown",
   "metadata": {},
   "source": [
    "####  Southern Hemisphere - Max Temp vs. Latitude Linear Regression"
   ]
  },
  {
   "cell_type": "code",
   "execution_count": 26,
   "metadata": {},
   "outputs": [
    {
     "name": "stdout",
     "output_type": "stream",
     "text": [
      "The r-value is: 0.6082708688906918\n"
     ]
    },
    {
     "data": {
      "image/png": "[encoded data removed]",
      "text/plain": [
       "<Figure size 432x288 with 1 Axes>"
      ]
     },
     "metadata": {
      "needs_background": "light"
     },
     "output_type": "display_data"
    }
   ],
   "source": []
  },
  {
   "cell_type": "markdown",
   "metadata": {},
   "source": [
    "####  Northern Hemisphere - Humidity (%) vs. Latitude Linear Regression"
   ]
  },
  {
   "cell_type": "code",
   "execution_count": 27,
   "metadata": {},
   "outputs": [
    {
     "name": "stdout",
     "output_type": "stream",
     "text": [
      "The r-value is: 0.000543987878808455\n"
     ]
    },
    {
     "data": {
      "image/png": "[encoded data removed]",
      "text/plain": [
       "<Figure size 432x288 with 1 Axes>"
      ]
     },
     "metadata": {
      "needs_background": "light"
     },
     "output_type": "display_data"
    }
   ],
   "source": []
  },
  {
   "cell_type": "markdown",
   "metadata": {},
   "source": [
    "####  Southern Hemisphere - Humidity (%) vs. Latitude Linear Regression"
   ]
  },
  {
   "cell_type": "code",
   "execution_count": 28,
   "metadata": {},
   "outputs": [
    {
     "name": "stdout",
     "output_type": "stream",
     "text": [
      "The r-value is: 0.014985174297345524\n"
     ]
    },
    {
     "data": {
      "image/png": "[encoded data removed]",
      "text/plain": [
       "<Figure size 432x288 with 1 Axes>"
      ]
     },
     "metadata": {
      "needs_background": "light"
     },
     "output_type": "display_data"
    }
   ],
   "source": []
  },
  {
   "cell_type": "markdown",
   "metadata": {},
   "source": [
    "####  Northern Hemisphere - Cloudiness (%) vs. Latitude Linear Regression"
   ]
  },
  {
   "cell_type": "code",
   "execution_count": 29,
   "metadata": {},
   "outputs": [
    {
     "name": "stdout",
     "output_type": "stream",
     "text": [
      "The r-value is: 0.0020898727664228514\n"
     ]
    },
    {
     "data": {
      "image/png": "[encoded data removed]",
      "text/plain": [
       "<Figure size 432x288 with 1 Axes>"
      ]
     },
     "metadata": {
      "needs_background": "light"
     },
     "output_type": "display_data"
    }
   ],
   "source": []
  },
  {
   "cell_type": "markdown",
   "metadata": {},
   "source": [
    "####  Southern Hemisphere - Cloudiness (%) vs. Latitude Linear Regression"
   ]
  },
  {
   "cell_type": "code",
   "execution_count": 30,
   "metadata": {},
   "outputs": [
    {
     "name": "stdout",
     "output_type": "stream",
     "text": [
      "The r-value is: 0.0035263772085582894\n"
     ]
    },
    {
     "data": {
      "image/png": "[encoded data removed]",
      "text/plain": [
       "<Figure size 432x288 with 1 Axes>"
      ]
     },
     "metadata": {
      "needs_background": "light"
     },
     "output_type": "display_data"
    }
   ],
   "source": []
  },
  {
   "cell_type": "markdown",
   "metadata": {},
   "source": [
    "####  Northern Hemisphere - Wind Speed (mph) vs. Latitude Linear Regression"
   ]
  },
  {
   "cell_type": "code",
   "execution_count": 31,
   "metadata": {},
   "outputs": [
    {
     "name": "stdout",
     "output_type": "stream",
     "text": [
      "The r-value is: 0.04019723576144484\n"
     ]
    },
    {
     "data": {
      "image/png": "[encoded data removed]",
      "text/plain": [
       "<Figure size 432x288 with 1 Axes>"
      ]
     },
     "metadata": {
      "needs_background": "light"
     },
     "output_type": "display_data"
    }
   ],
   "source": []
  },
  {
   "cell_type": "markdown",
   "metadata": {},
   "source": [
    "####  Southern Hemisphere - Wind Speed (mph) vs. Latitude Linear Regression"
   ]
  },
  {
   "cell_type": "code",
   "execution_count": 32,
   "metadata": {},
   "outputs": [
    {
     "name": "stdout",
     "output_type": "stream",
     "text": [
      "The r-value is: 0.017128274759839232\n"
     ]
    },
    {
     "data": {
      "image/png": "[encoded data removed]",
      "text/plain": [
       "<Figure size 432x288 with 1 Axes>"
      ]
     },
     "metadata": {
      "needs_background": "light"
     },
     "output_type": "display_data"
    }
   ],
   "source": []
  },
  {
   "cell_type": "code",
   "execution_count": null,
   "metadata": {},
   "outputs": [],
   "source": []
  }
 ],
 "metadata": {
  "anaconda-cloud": {},
  "kernel_info": {
   "name": "python3"
  },
  "kernelspec": {
   "display_name": "Python 3",
   "language": "python",
   "name": "python3"
  },
  "language_info": {
   "codemirror_mode": {
    "name": "ipython",
    "version": 3
   },
   "file_extension": ".py",
   "mimetype": "text/x-python",
   "name": "python",
   "nbconvert_exporter": "python",
   "pygments_lexer": "ipython3",
   "version": "3.8.3"
  },
  "latex_envs": {
   "LaTeX_envs_menu_present": true,
   "autoclose": false,
   "autocomplete": true,
   "bibliofile": "biblio.bib",
   "cite_by": "apalike",
   "current_citInitial": 1,
   "eqLabelWithNumbers": true,
   "eqNumInitial": 1,
   "hotkeys": {
    "equation": "Ctrl-E",
    "itemize": "Ctrl-I"
   },
   "labels_anchors": false,
   "latex_user_defs": false,
   "report_style_numbering": false,
   "user_envs_cfg": false
  },
  "nteract": {
   "version": "0.12.3"
  }
 },
 "nbformat": 4,
 "nbformat_minor": 4
}
